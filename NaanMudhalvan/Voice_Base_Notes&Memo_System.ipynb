{
 "cells": [
  {
   "cell_type": "code",
   "execution_count": 1,
   "id": "1ffe0165",
   "metadata": {},
   "outputs": [
    {
     "name": "stdout",
     "output_type": "stream",
     "text": [
      "Requirement already satisfied: sounddevice in c:\\users\\admin\\anaconda3\\lib\\site-packages (0.5.1)\n",
      "Requirement already satisfied: numpy in c:\\users\\admin\\anaconda3\\lib\\site-packages (1.21.5)\n",
      "Requirement already satisfied: playsound in c:\\users\\admin\\anaconda3\\lib\\site-packages (1.3.0)\n",
      "Requirement already satisfied: CFFI>=1.0 in c:\\users\\admin\\anaconda3\\lib\\site-packages (from sounddevice) (1.15.0)\n",
      "Requirement already satisfied: pycparser in c:\\users\\admin\\anaconda3\\lib\\site-packages (from CFFI>=1.0->sounddevice) (2.21)\n"
     ]
    }
   ],
   "source": [
    "!pip install sounddevice numpy playsound"
   ]
  },
  {
   "cell_type": "code",
   "execution_count": 2,
   "id": "2305b5ce",
   "metadata": {},
   "outputs": [],
   "source": [
    "import sounddevice as sd\n",
    "import numpy as np\n",
    "import wave\n",
    "import os\n",
    "from playsound import playsound"
   ]
  },
  {
   "cell_type": "code",
   "execution_count": 3,
   "id": "656eb97a",
   "metadata": {},
   "outputs": [],
   "source": [
    "class VoiceNotesMemoSystem:\n",
    "    def __init__(self):\n",
    "        self.notes = {}  # Dictionary to store notes: {id: (audio_file, memo)}\n",
    "        self.current_id = 0\n",
    "        self.last_audio_file = None\n",
    "\n",
    "    def record_audio(self, duration=5, filename='note.wav'):\n",
    "        print(\"Recording...\")\n",
    "        fs = 44100  # Sample rate\n",
    "        myrecording = sd.rec(int(duration * fs), samplerate=fs, channels=2, dtype='int16')\n",
    "        sd.wait()  # Wait until recording is finished\n",
    "        print(\"Recording finished.\")\n",
    "\n",
    "        # Save the recording as a WAV file\n",
    "        with wave.open(filename, 'wb') as wf:\n",
    "            wf.setnchannels(2)\n",
    "            wf.setsampwidth(2)  # 2 bytes for 'int16'\n",
    "            wf.setframerate(fs)\n",
    "            wf.writeframes(myrecording.tobytes())\n",
    "\n",
    "        self.last_audio_file = filename\n",
    "        return filename\n",
    "\n",
    "    def save_note(self, memo):\n",
    "        if not self.last_audio_file:\n",
    "            print(\"No audio recorded yet.\")\n",
    "            return\n",
    "        self.notes[self.current_id] = (self.last_audio_file, memo)\n",
    "        print(f\"Note saved with ID: {self.current_id}\")\n",
    "        self.current_id += 1\n",
    "        self.last_audio_file = None  # Reset after saving\n",
    "\n",
    "    def play_audio(self, note_id):\n",
    "        if note_id in self.notes:\n",
    "            audio_file = self.notes[note_id][0]\n",
    "            print(f\"Playing {audio_file}...\")\n",
    "            playsound(audio_file)\n",
    "        else:\n",
    "            print(f\"No note found with ID: {note_id}\")\n",
    "\n",
    "    def list_notes(self):\n",
    "        if not self.notes:\n",
    "            print(\"No notes saved.\")\n",
    "            return\n",
    "        for note_id, (audio_file, memo) in self.notes.items():\n",
    "            print(f\"ID: {note_id}, Audio File: {audio_file}, Memo: {memo}\")\n",
    "\n",
    "    def delete_note(self, note_id):\n",
    "        if note_id in self.notes:\n",
    "            del self.notes[note_id]\n",
    "            print(f\"Note with ID {note_id} deleted.\")\n",
    "        else:\n",
    "            print(f\"No note found with ID: {note_id}\")\n"
   ]
  },
  {
   "cell_type": "code",
   "execution_count": 4,
   "id": "173a7a41",
   "metadata": {},
   "outputs": [],
   "source": [
    "system = VoiceNotesMemoSystem()"
   ]
  },
  {
   "cell_type": "code",
   "execution_count": 9,
   "id": "5488e8fd",
   "metadata": {},
   "outputs": [
    {
     "name": "stdout",
     "output_type": "stream",
     "text": [
      "Enter duration in seconds: 2\n",
      "Recording...\n",
      "Recording finished.\n",
      "Audio recorded and saved as note.wav\n"
     ]
    }
   ],
   "source": [
    "duration = int(input(\"Enter duration in seconds: \"))\n",
    "audio_file = system.record_audio(duration)\n",
    "print(f\"Audio recorded and saved as {audio_file}\")\n"
   ]
  },
  {
   "cell_type": "code",
   "execution_count": 10,
   "id": "d3aa26e8",
   "metadata": {},
   "outputs": [
    {
     "name": "stdout",
     "output_type": "stream",
     "text": [
      "Enter memo for the note: hello2\n",
      "Note saved with ID: 1\n"
     ]
    }
   ],
   "source": [
    "memo = input(\"Enter memo for the note: \")\n",
    "system.save_note(memo)\n"
   ]
  },
  {
   "cell_type": "code",
   "execution_count": 11,
   "id": "95b1335c",
   "metadata": {},
   "outputs": [
    {
     "name": "stdout",
     "output_type": "stream",
     "text": [
      "ID: 0, Audio File: note.wav, Memo: hello\n",
      "ID: 1, Audio File: note.wav, Memo: hello2\n"
     ]
    }
   ],
   "source": [
    "system.list_notes()\n"
   ]
  },
  {
   "cell_type": "code",
   "execution_count": 12,
   "id": "e5013c5c",
   "metadata": {},
   "outputs": [
    {
     "name": "stdout",
     "output_type": "stream",
     "text": [
      "Enter note ID to play: 1\n"
     ]
    },
    {
     "name": "stderr",
     "output_type": "stream",
     "text": [
      "\n",
      "    Error 263 for command:\n",
      "        open note.wav\n",
      "    The specified device is not open or is not recognized by MCI.\n",
      "\n",
      "    Error 263 for command:\n",
      "        close note.wav\n",
      "    The specified device is not open or is not recognized by MCI.\n",
      "Failed to close the file: note.wav\n"
     ]
    },
    {
     "name": "stdout",
     "output_type": "stream",
     "text": [
      "Playing note.wav...\n"
     ]
    },
    {
     "ename": "PlaysoundException",
     "evalue": "\n    Error 263 for command:\n        open note.wav\n    The specified device is not open or is not recognized by MCI.",
     "output_type": "error",
     "traceback": [
      "\u001b[1;31m---------------------------------------------------------------------------\u001b[0m",
      "\u001b[1;31mPlaysoundException\u001b[0m                        Traceback (most recent call last)",
      "Input \u001b[1;32mIn [12]\u001b[0m, in \u001b[0;36m<cell line: 2>\u001b[1;34m()\u001b[0m\n\u001b[0;32m      1\u001b[0m note_id \u001b[38;5;241m=\u001b[39m \u001b[38;5;28mint\u001b[39m(\u001b[38;5;28minput\u001b[39m(\u001b[38;5;124m\"\u001b[39m\u001b[38;5;124mEnter note ID to play: \u001b[39m\u001b[38;5;124m\"\u001b[39m))\n\u001b[1;32m----> 2\u001b[0m \u001b[43msystem\u001b[49m\u001b[38;5;241;43m.\u001b[39;49m\u001b[43mplay_audio\u001b[49m\u001b[43m(\u001b[49m\u001b[43mnote_id\u001b[49m\u001b[43m)\u001b[49m\n",
      "Input \u001b[1;32mIn [3]\u001b[0m, in \u001b[0;36mVoiceNotesMemoSystem.play_audio\u001b[1;34m(self, note_id)\u001b[0m\n\u001b[0;32m     35\u001b[0m     audio_file \u001b[38;5;241m=\u001b[39m \u001b[38;5;28mself\u001b[39m\u001b[38;5;241m.\u001b[39mnotes[note_id][\u001b[38;5;241m0\u001b[39m]\n\u001b[0;32m     36\u001b[0m     \u001b[38;5;28mprint\u001b[39m(\u001b[38;5;124mf\u001b[39m\u001b[38;5;124m\"\u001b[39m\u001b[38;5;124mPlaying \u001b[39m\u001b[38;5;132;01m{\u001b[39;00maudio_file\u001b[38;5;132;01m}\u001b[39;00m\u001b[38;5;124m...\u001b[39m\u001b[38;5;124m\"\u001b[39m)\n\u001b[1;32m---> 37\u001b[0m     \u001b[43mplaysound\u001b[49m\u001b[43m(\u001b[49m\u001b[43maudio_file\u001b[49m\u001b[43m)\u001b[49m\n\u001b[0;32m     38\u001b[0m \u001b[38;5;28;01melse\u001b[39;00m:\n\u001b[0;32m     39\u001b[0m     \u001b[38;5;28mprint\u001b[39m(\u001b[38;5;124mf\u001b[39m\u001b[38;5;124m\"\u001b[39m\u001b[38;5;124mNo note found with ID: \u001b[39m\u001b[38;5;132;01m{\u001b[39;00mnote_id\u001b[38;5;132;01m}\u001b[39;00m\u001b[38;5;124m\"\u001b[39m)\n",
      "File \u001b[1;32m~\\Anaconda3\\lib\\site-packages\\playsound.py:72\u001b[0m, in \u001b[0;36m_playsoundWin\u001b[1;34m(sound, block)\u001b[0m\n\u001b[0;32m     70\u001b[0m \u001b[38;5;28;01mtry\u001b[39;00m:\n\u001b[0;32m     71\u001b[0m     logger\u001b[38;5;241m.\u001b[39mdebug(\u001b[38;5;124m'\u001b[39m\u001b[38;5;124mStarting\u001b[39m\u001b[38;5;124m'\u001b[39m)\n\u001b[1;32m---> 72\u001b[0m     \u001b[43mwinCommand\u001b[49m\u001b[43m(\u001b[49m\u001b[38;5;124;43mu\u001b[39;49m\u001b[38;5;124;43m'\u001b[39;49m\u001b[38;5;124;43mopen \u001b[39;49m\u001b[38;5;132;43;01m{}\u001b[39;49;00m\u001b[38;5;124;43m'\u001b[39;49m\u001b[38;5;241;43m.\u001b[39;49m\u001b[43mformat\u001b[49m\u001b[43m(\u001b[49m\u001b[43msound\u001b[49m\u001b[43m)\u001b[49m\u001b[43m)\u001b[49m\n\u001b[0;32m     73\u001b[0m     winCommand(\u001b[38;5;124mu\u001b[39m\u001b[38;5;124m'\u001b[39m\u001b[38;5;124mplay \u001b[39m\u001b[38;5;132;01m{}\u001b[39;00m\u001b[38;5;132;01m{}\u001b[39;00m\u001b[38;5;124m'\u001b[39m\u001b[38;5;241m.\u001b[39mformat(sound, \u001b[38;5;124m'\u001b[39m\u001b[38;5;124m wait\u001b[39m\u001b[38;5;124m'\u001b[39m \u001b[38;5;28;01mif\u001b[39;00m block \u001b[38;5;28;01melse\u001b[39;00m \u001b[38;5;124m'\u001b[39m\u001b[38;5;124m'\u001b[39m))\n\u001b[0;32m     74\u001b[0m     logger\u001b[38;5;241m.\u001b[39mdebug(\u001b[38;5;124m'\u001b[39m\u001b[38;5;124mReturning\u001b[39m\u001b[38;5;124m'\u001b[39m)\n",
      "File \u001b[1;32m~\\Anaconda3\\lib\\site-packages\\playsound.py:64\u001b[0m, in \u001b[0;36m_playsoundWin.<locals>.winCommand\u001b[1;34m(*command)\u001b[0m\n\u001b[0;32m     60\u001b[0m     exceptionMessage \u001b[38;5;241m=\u001b[39m (\u001b[38;5;124m'\u001b[39m\u001b[38;5;130;01m\\n\u001b[39;00m\u001b[38;5;124m    Error \u001b[39m\u001b[38;5;124m'\u001b[39m \u001b[38;5;241m+\u001b[39m \u001b[38;5;28mstr\u001b[39m(errorCode) \u001b[38;5;241m+\u001b[39m \u001b[38;5;124m'\u001b[39m\u001b[38;5;124m for command:\u001b[39m\u001b[38;5;124m'\u001b[39m\n\u001b[0;32m     61\u001b[0m                         \u001b[38;5;124m'\u001b[39m\u001b[38;5;130;01m\\n\u001b[39;00m\u001b[38;5;124m        \u001b[39m\u001b[38;5;124m'\u001b[39m \u001b[38;5;241m+\u001b[39m command\u001b[38;5;241m.\u001b[39mdecode(\u001b[38;5;124m'\u001b[39m\u001b[38;5;124mutf-16\u001b[39m\u001b[38;5;124m'\u001b[39m) \u001b[38;5;241m+\u001b[39m\n\u001b[0;32m     62\u001b[0m                         \u001b[38;5;124m'\u001b[39m\u001b[38;5;130;01m\\n\u001b[39;00m\u001b[38;5;124m    \u001b[39m\u001b[38;5;124m'\u001b[39m \u001b[38;5;241m+\u001b[39m errorBuffer\u001b[38;5;241m.\u001b[39mraw\u001b[38;5;241m.\u001b[39mdecode(\u001b[38;5;124m'\u001b[39m\u001b[38;5;124mutf-16\u001b[39m\u001b[38;5;124m'\u001b[39m)\u001b[38;5;241m.\u001b[39mrstrip(\u001b[38;5;124m'\u001b[39m\u001b[38;5;130;01m\\0\u001b[39;00m\u001b[38;5;124m'\u001b[39m))\n\u001b[0;32m     63\u001b[0m     logger\u001b[38;5;241m.\u001b[39merror(exceptionMessage)\n\u001b[1;32m---> 64\u001b[0m     \u001b[38;5;28;01mraise\u001b[39;00m PlaysoundException(exceptionMessage)\n\u001b[0;32m     65\u001b[0m \u001b[38;5;28;01mreturn\u001b[39;00m buf\u001b[38;5;241m.\u001b[39mvalue\n",
      "\u001b[1;31mPlaysoundException\u001b[0m: \n    Error 263 for command:\n        open note.wav\n    The specified device is not open or is not recognized by MCI."
     ]
    }
   ],
   "source": [
    "note_id = int(input(\"Enter note ID to play: \"))\n",
    "system.play_audio(note_id)\n"
   ]
  },
  {
   "cell_type": "code",
   "execution_count": 13,
   "id": "7c0d97a1",
   "metadata": {},
   "outputs": [
    {
     "name": "stdout",
     "output_type": "stream",
     "text": [
      "Collecting simpleaudio\n",
      "  Downloading simpleaudio-1.0.4.tar.gz (2.0 MB)\n",
      "Building wheels for collected packages: simpleaudio\n",
      "  Building wheel for simpleaudio (setup.py): started\n",
      "  Building wheel for simpleaudio (setup.py): finished with status 'error'\n",
      "  Running setup.py clean for simpleaudio\n",
      "Failed to build simpleaudio\n",
      "Installing collected packages: simpleaudio\n",
      "    Running setup.py install for simpleaudio: started\n",
      "    Running setup.py install for simpleaudio: finished with status 'error'\n"
     ]
    },
    {
     "name": "stderr",
     "output_type": "stream",
     "text": [
      "  ERROR: Command errored out with exit status 1:\n",
      "   command: 'C:\\Users\\Admin\\Anaconda3\\python.exe' -u -c 'import io, os, sys, setuptools, tokenize; sys.argv[0] = '\"'\"'C:\\\\Users\\\\Admin\\\\AppData\\\\Local\\\\Temp\\\\pip-install-4jrlotpv\\\\simpleaudio_8273a0845a544a6fbf533f13a24c3dc0\\\\setup.py'\"'\"'; __file__='\"'\"'C:\\\\Users\\\\Admin\\\\AppData\\\\Local\\\\Temp\\\\pip-install-4jrlotpv\\\\simpleaudio_8273a0845a544a6fbf533f13a24c3dc0\\\\setup.py'\"'\"';f = getattr(tokenize, '\"'\"'open'\"'\"', open)(__file__) if os.path.exists(__file__) else io.StringIO('\"'\"'from setuptools import setup; setup()'\"'\"');code = f.read().replace('\"'\"'\\r\\n'\"'\"', '\"'\"'\\n'\"'\"');f.close();exec(compile(code, __file__, '\"'\"'exec'\"'\"'))' bdist_wheel -d 'C:\\Users\\Admin\\AppData\\Local\\Temp\\pip-wheel-3ol9m5ik'\n",
      "       cwd: C:\\Users\\Admin\\AppData\\Local\\Temp\\pip-install-4jrlotpv\\simpleaudio_8273a0845a544a6fbf533f13a24c3dc0\\\n",
      "  Complete output (18 lines):\n",
      "  running bdist_wheel\n",
      "  running build\n",
      "  running build_py\n",
      "  creating build\n",
      "  creating build\\lib.win-amd64-3.9\n",
      "  creating build\\lib.win-amd64-3.9\\simpleaudio\n",
      "  copying simpleaudio\\__init__.py -> build\\lib.win-amd64-3.9\\simpleaudio\n",
      "  copying simpleaudio\\shiny.py -> build\\lib.win-amd64-3.9\\simpleaudio\n",
      "  copying simpleaudio\\functionchecks.py -> build\\lib.win-amd64-3.9\\simpleaudio\n",
      "  creating build\\lib.win-amd64-3.9\\simpleaudio\\test_audio\n",
      "  copying simpleaudio\\test_audio\\c.wav -> build\\lib.win-amd64-3.9\\simpleaudio\\test_audio\n",
      "  copying simpleaudio\\test_audio\\e.wav -> build\\lib.win-amd64-3.9\\simpleaudio\\test_audio\n",
      "  copying simpleaudio\\test_audio\\g.wav -> build\\lib.win-amd64-3.9\\simpleaudio\\test_audio\n",
      "  copying simpleaudio\\test_audio\\left_right.wav -> build\\lib.win-amd64-3.9\\simpleaudio\\test_audio\n",
      "  copying simpleaudio\\test_audio\\notes_2_16_44.wav -> build\\lib.win-amd64-3.9\\simpleaudio\\test_audio\n",
      "  running build_ext\n",
      "  building 'simpleaudio._simpleaudio' extension\n",
      "  error: Microsoft Visual C++ 14.0 or greater is required. Get it with \"Microsoft C++ Build Tools\": https://visualstudio.microsoft.com/visual-cpp-build-tools/\n",
      "  ----------------------------------------\n",
      "  ERROR: Failed building wheel for simpleaudio\n",
      "    ERROR: Command errored out with exit status 1:\n",
      "     command: 'C:\\Users\\Admin\\Anaconda3\\python.exe' -u -c 'import io, os, sys, setuptools, tokenize; sys.argv[0] = '\"'\"'C:\\\\Users\\\\Admin\\\\AppData\\\\Local\\\\Temp\\\\pip-install-4jrlotpv\\\\simpleaudio_8273a0845a544a6fbf533f13a24c3dc0\\\\setup.py'\"'\"'; __file__='\"'\"'C:\\\\Users\\\\Admin\\\\AppData\\\\Local\\\\Temp\\\\pip-install-4jrlotpv\\\\simpleaudio_8273a0845a544a6fbf533f13a24c3dc0\\\\setup.py'\"'\"';f = getattr(tokenize, '\"'\"'open'\"'\"', open)(__file__) if os.path.exists(__file__) else io.StringIO('\"'\"'from setuptools import setup; setup()'\"'\"');code = f.read().replace('\"'\"'\\r\\n'\"'\"', '\"'\"'\\n'\"'\"');f.close();exec(compile(code, __file__, '\"'\"'exec'\"'\"'))' install --record 'C:\\Users\\Admin\\AppData\\Local\\Temp\\pip-record-gq5vc7l2\\install-record.txt' --single-version-externally-managed --compile --install-headers 'C:\\Users\\Admin\\Anaconda3\\Include\\simpleaudio'\n",
      "         cwd: C:\\Users\\Admin\\AppData\\Local\\Temp\\pip-install-4jrlotpv\\simpleaudio_8273a0845a544a6fbf533f13a24c3dc0\\\n",
      "    Complete output (20 lines):\n",
      "    running install\n",
      "    C:\\Users\\Admin\\Anaconda3\\lib\\site-packages\\setuptools\\command\\install.py:34: SetuptoolsDeprecationWarning: setup.py install is deprecated. Use build and pip and other standards-based tools.\n",
      "      warnings.warn(\n",
      "    running build\n",
      "    running build_py\n",
      "    creating build\n",
      "    creating build\\lib.win-amd64-3.9\n",
      "    creating build\\lib.win-amd64-3.9\\simpleaudio\n",
      "    copying simpleaudio\\__init__.py -> build\\lib.win-amd64-3.9\\simpleaudio\n",
      "    copying simpleaudio\\shiny.py -> build\\lib.win-amd64-3.9\\simpleaudio\n",
      "    copying simpleaudio\\functionchecks.py -> build\\lib.win-amd64-3.9\\simpleaudio\n",
      "    creating build\\lib.win-amd64-3.9\\simpleaudio\\test_audio\n",
      "    copying simpleaudio\\test_audio\\c.wav -> build\\lib.win-amd64-3.9\\simpleaudio\\test_audio\n",
      "    copying simpleaudio\\test_audio\\e.wav -> build\\lib.win-amd64-3.9\\simpleaudio\\test_audio\n",
      "    copying simpleaudio\\test_audio\\g.wav -> build\\lib.win-amd64-3.9\\simpleaudio\\test_audio\n",
      "    copying simpleaudio\\test_audio\\left_right.wav -> build\\lib.win-amd64-3.9\\simpleaudio\\test_audio\n",
      "    copying simpleaudio\\test_audio\\notes_2_16_44.wav -> build\\lib.win-amd64-3.9\\simpleaudio\\test_audio\n",
      "    running build_ext\n",
      "    building 'simpleaudio._simpleaudio' extension\n",
      "    error: Microsoft Visual C++ 14.0 or greater is required. Get it with \"Microsoft C++ Build Tools\": https://visualstudio.microsoft.com/visual-cpp-build-tools/\n",
      "    ----------------------------------------\n",
      "ERROR: Command errored out with exit status 1: 'C:\\Users\\Admin\\Anaconda3\\python.exe' -u -c 'import io, os, sys, setuptools, tokenize; sys.argv[0] = '\"'\"'C:\\\\Users\\\\Admin\\\\AppData\\\\Local\\\\Temp\\\\pip-install-4jrlotpv\\\\simpleaudio_8273a0845a544a6fbf533f13a24c3dc0\\\\setup.py'\"'\"'; __file__='\"'\"'C:\\\\Users\\\\Admin\\\\AppData\\\\Local\\\\Temp\\\\pip-install-4jrlotpv\\\\simpleaudio_8273a0845a544a6fbf533f13a24c3dc0\\\\setup.py'\"'\"';f = getattr(tokenize, '\"'\"'open'\"'\"', open)(__file__) if os.path.exists(__file__) else io.StringIO('\"'\"'from setuptools import setup; setup()'\"'\"');code = f.read().replace('\"'\"'\\r\\n'\"'\"', '\"'\"'\\n'\"'\"');f.close();exec(compile(code, __file__, '\"'\"'exec'\"'\"'))' install --record 'C:\\Users\\Admin\\AppData\\Local\\Temp\\pip-record-gq5vc7l2\\install-record.txt' --single-version-externally-managed --compile --install-headers 'C:\\Users\\Admin\\Anaconda3\\Include\\simpleaudio' Check the logs for full command output.\n"
     ]
    }
   ],
   "source": [
    "!pip install simpleaudio"
   ]
  },
  {
   "cell_type": "code",
   "execution_count": 14,
   "id": "8da30bb6",
   "metadata": {},
   "outputs": [],
   "source": [
    "import os\n",
    "\n",
    "def play_audio(self, note_id):\n",
    "    if note_id in self.notes:\n",
    "        audio_file = os.path.abspath(self.notes[note_id][0])\n",
    "        print(f\"Playing {audio_file}...\")\n",
    "        playsound(audio_file)\n",
    "    else:\n",
    "        print(f\"No note found with ID: {note_id}\")\n"
   ]
  },
  {
   "cell_type": "code",
   "execution_count": null,
   "id": "e23ee1f0",
   "metadata": {},
   "outputs": [],
   "source": []
  },
  {
   "cell_type": "code",
   "execution_count": 15,
   "id": "15bf3366",
   "metadata": {},
   "outputs": [
    {
     "name": "stdout",
     "output_type": "stream",
     "text": [
      "Enter note ID to play: 1\n"
     ]
    },
    {
     "name": "stderr",
     "output_type": "stream",
     "text": [
      "\n",
      "    Error 263 for command:\n",
      "        open note.wav\n",
      "    The specified device is not open or is not recognized by MCI.\n",
      "\n",
      "    Error 263 for command:\n",
      "        close note.wav\n",
      "    The specified device is not open or is not recognized by MCI.\n",
      "Failed to close the file: note.wav\n"
     ]
    },
    {
     "name": "stdout",
     "output_type": "stream",
     "text": [
      "Playing note.wav...\n"
     ]
    },
    {
     "ename": "PlaysoundException",
     "evalue": "\n    Error 263 for command:\n        open note.wav\n    The specified device is not open or is not recognized by MCI.",
     "output_type": "error",
     "traceback": [
      "\u001b[1;31m---------------------------------------------------------------------------\u001b[0m",
      "\u001b[1;31mPlaysoundException\u001b[0m                        Traceback (most recent call last)",
      "Input \u001b[1;32mIn [15]\u001b[0m, in \u001b[0;36m<cell line: 2>\u001b[1;34m()\u001b[0m\n\u001b[0;32m      1\u001b[0m note_id \u001b[38;5;241m=\u001b[39m \u001b[38;5;28mint\u001b[39m(\u001b[38;5;28minput\u001b[39m(\u001b[38;5;124m\"\u001b[39m\u001b[38;5;124mEnter note ID to play: \u001b[39m\u001b[38;5;124m\"\u001b[39m))\n\u001b[1;32m----> 2\u001b[0m \u001b[43msystem\u001b[49m\u001b[38;5;241;43m.\u001b[39;49m\u001b[43mplay_audio\u001b[49m\u001b[43m(\u001b[49m\u001b[43mnote_id\u001b[49m\u001b[43m)\u001b[49m\n",
      "Input \u001b[1;32mIn [3]\u001b[0m, in \u001b[0;36mVoiceNotesMemoSystem.play_audio\u001b[1;34m(self, note_id)\u001b[0m\n\u001b[0;32m     35\u001b[0m     audio_file \u001b[38;5;241m=\u001b[39m \u001b[38;5;28mself\u001b[39m\u001b[38;5;241m.\u001b[39mnotes[note_id][\u001b[38;5;241m0\u001b[39m]\n\u001b[0;32m     36\u001b[0m     \u001b[38;5;28mprint\u001b[39m(\u001b[38;5;124mf\u001b[39m\u001b[38;5;124m\"\u001b[39m\u001b[38;5;124mPlaying \u001b[39m\u001b[38;5;132;01m{\u001b[39;00maudio_file\u001b[38;5;132;01m}\u001b[39;00m\u001b[38;5;124m...\u001b[39m\u001b[38;5;124m\"\u001b[39m)\n\u001b[1;32m---> 37\u001b[0m     \u001b[43mplaysound\u001b[49m\u001b[43m(\u001b[49m\u001b[43maudio_file\u001b[49m\u001b[43m)\u001b[49m\n\u001b[0;32m     38\u001b[0m \u001b[38;5;28;01melse\u001b[39;00m:\n\u001b[0;32m     39\u001b[0m     \u001b[38;5;28mprint\u001b[39m(\u001b[38;5;124mf\u001b[39m\u001b[38;5;124m\"\u001b[39m\u001b[38;5;124mNo note found with ID: \u001b[39m\u001b[38;5;132;01m{\u001b[39;00mnote_id\u001b[38;5;132;01m}\u001b[39;00m\u001b[38;5;124m\"\u001b[39m)\n",
      "File \u001b[1;32m~\\Anaconda3\\lib\\site-packages\\playsound.py:72\u001b[0m, in \u001b[0;36m_playsoundWin\u001b[1;34m(sound, block)\u001b[0m\n\u001b[0;32m     70\u001b[0m \u001b[38;5;28;01mtry\u001b[39;00m:\n\u001b[0;32m     71\u001b[0m     logger\u001b[38;5;241m.\u001b[39mdebug(\u001b[38;5;124m'\u001b[39m\u001b[38;5;124mStarting\u001b[39m\u001b[38;5;124m'\u001b[39m)\n\u001b[1;32m---> 72\u001b[0m     \u001b[43mwinCommand\u001b[49m\u001b[43m(\u001b[49m\u001b[38;5;124;43mu\u001b[39;49m\u001b[38;5;124;43m'\u001b[39;49m\u001b[38;5;124;43mopen \u001b[39;49m\u001b[38;5;132;43;01m{}\u001b[39;49;00m\u001b[38;5;124;43m'\u001b[39;49m\u001b[38;5;241;43m.\u001b[39;49m\u001b[43mformat\u001b[49m\u001b[43m(\u001b[49m\u001b[43msound\u001b[49m\u001b[43m)\u001b[49m\u001b[43m)\u001b[49m\n\u001b[0;32m     73\u001b[0m     winCommand(\u001b[38;5;124mu\u001b[39m\u001b[38;5;124m'\u001b[39m\u001b[38;5;124mplay \u001b[39m\u001b[38;5;132;01m{}\u001b[39;00m\u001b[38;5;132;01m{}\u001b[39;00m\u001b[38;5;124m'\u001b[39m\u001b[38;5;241m.\u001b[39mformat(sound, \u001b[38;5;124m'\u001b[39m\u001b[38;5;124m wait\u001b[39m\u001b[38;5;124m'\u001b[39m \u001b[38;5;28;01mif\u001b[39;00m block \u001b[38;5;28;01melse\u001b[39;00m \u001b[38;5;124m'\u001b[39m\u001b[38;5;124m'\u001b[39m))\n\u001b[0;32m     74\u001b[0m     logger\u001b[38;5;241m.\u001b[39mdebug(\u001b[38;5;124m'\u001b[39m\u001b[38;5;124mReturning\u001b[39m\u001b[38;5;124m'\u001b[39m)\n",
      "File \u001b[1;32m~\\Anaconda3\\lib\\site-packages\\playsound.py:64\u001b[0m, in \u001b[0;36m_playsoundWin.<locals>.winCommand\u001b[1;34m(*command)\u001b[0m\n\u001b[0;32m     60\u001b[0m     exceptionMessage \u001b[38;5;241m=\u001b[39m (\u001b[38;5;124m'\u001b[39m\u001b[38;5;130;01m\\n\u001b[39;00m\u001b[38;5;124m    Error \u001b[39m\u001b[38;5;124m'\u001b[39m \u001b[38;5;241m+\u001b[39m \u001b[38;5;28mstr\u001b[39m(errorCode) \u001b[38;5;241m+\u001b[39m \u001b[38;5;124m'\u001b[39m\u001b[38;5;124m for command:\u001b[39m\u001b[38;5;124m'\u001b[39m\n\u001b[0;32m     61\u001b[0m                         \u001b[38;5;124m'\u001b[39m\u001b[38;5;130;01m\\n\u001b[39;00m\u001b[38;5;124m        \u001b[39m\u001b[38;5;124m'\u001b[39m \u001b[38;5;241m+\u001b[39m command\u001b[38;5;241m.\u001b[39mdecode(\u001b[38;5;124m'\u001b[39m\u001b[38;5;124mutf-16\u001b[39m\u001b[38;5;124m'\u001b[39m) \u001b[38;5;241m+\u001b[39m\n\u001b[0;32m     62\u001b[0m                         \u001b[38;5;124m'\u001b[39m\u001b[38;5;130;01m\\n\u001b[39;00m\u001b[38;5;124m    \u001b[39m\u001b[38;5;124m'\u001b[39m \u001b[38;5;241m+\u001b[39m errorBuffer\u001b[38;5;241m.\u001b[39mraw\u001b[38;5;241m.\u001b[39mdecode(\u001b[38;5;124m'\u001b[39m\u001b[38;5;124mutf-16\u001b[39m\u001b[38;5;124m'\u001b[39m)\u001b[38;5;241m.\u001b[39mrstrip(\u001b[38;5;124m'\u001b[39m\u001b[38;5;130;01m\\0\u001b[39;00m\u001b[38;5;124m'\u001b[39m))\n\u001b[0;32m     63\u001b[0m     logger\u001b[38;5;241m.\u001b[39merror(exceptionMessage)\n\u001b[1;32m---> 64\u001b[0m     \u001b[38;5;28;01mraise\u001b[39;00m PlaysoundException(exceptionMessage)\n\u001b[0;32m     65\u001b[0m \u001b[38;5;28;01mreturn\u001b[39;00m buf\u001b[38;5;241m.\u001b[39mvalue\n",
      "\u001b[1;31mPlaysoundException\u001b[0m: \n    Error 263 for command:\n        open note.wav\n    The specified device is not open or is not recognized by MCI."
     ]
    }
   ],
   "source": [
    "note_id = int(input(\"Enter note ID to play: \"))\n",
    "system.play_audio(note_id)\n"
   ]
  },
  {
   "cell_type": "code",
   "execution_count": 16,
   "id": "d7faaa9d",
   "metadata": {},
   "outputs": [
    {
     "name": "stdout",
     "output_type": "stream",
     "text": [
      "Requirement already satisfied: sounddevice in c:\\users\\admin\\anaconda3\\lib\\site-packages (0.5.1)\n",
      "Requirement already satisfied: numpy in c:\\users\\admin\\anaconda3\\lib\\site-packages (1.21.5)\n",
      "Collecting pygame\n",
      "  Downloading pygame-2.6.1-cp39-cp39-win_amd64.whl (10.6 MB)\n",
      "Requirement already satisfied: CFFI>=1.0 in c:\\users\\admin\\anaconda3\\lib\\site-packages (from sounddevice) (1.15.0)\n",
      "Requirement already satisfied: pycparser in c:\\users\\admin\\anaconda3\\lib\\site-packages (from CFFI>=1.0->sounddevice) (2.21)\n",
      "Installing collected packages: pygame\n",
      "Successfully installed pygame-2.6.1\n"
     ]
    }
   ],
   "source": [
    "!pip install sounddevice numpy pygame\n"
   ]
  },
  {
   "cell_type": "code",
   "execution_count": 17,
   "id": "b1689df0",
   "metadata": {},
   "outputs": [
    {
     "name": "stdout",
     "output_type": "stream",
     "text": [
      "pygame 2.6.1 (SDL 2.28.4, Python 3.9.12)\n",
      "Hello from the pygame community. https://www.pygame.org/contribute.html\n"
     ]
    }
   ],
   "source": [
    "import sounddevice as sd\n",
    "import numpy as np\n",
    "import wave\n",
    "import os\n",
    "import pygame\n"
   ]
  },
  {
   "cell_type": "code",
   "execution_count": 18,
   "id": "429898bf",
   "metadata": {},
   "outputs": [],
   "source": [
    "class VoiceNotesMemoSystem:\n",
    "    def __init__(self):\n",
    "        self.notes = {}  # Dictionary to store notes: {id: (audio_file, memo)}\n",
    "        self.current_id = 0\n",
    "        self.last_audio_file = None\n",
    "\n",
    "    def record_audio(self, duration=5, filename='note.wav'):\n",
    "        print(\"Recording...\")\n",
    "        fs = 44100  # Sample rate\n",
    "        myrecording = sd.rec(int(duration * fs), samplerate=fs, channels=2, dtype='int16')\n",
    "        sd.wait()  # Wait until recording is finished\n",
    "        print(\"Recording finished.\")\n",
    "\n",
    "        # Save the recording as a WAV file\n",
    "        with wave.open(filename, 'wb') as wf:\n",
    "            wf.setnchannels(2)\n",
    "            wf.setsampwidth(2)  # 2 bytes for 'int16'\n",
    "            wf.setframerate(fs)\n",
    "            wf.writeframes(myrecording.tobytes())\n",
    "\n",
    "        self.last_audio_file = filename\n",
    "        return filename\n",
    "\n",
    "    def save_note(self, memo):\n",
    "        if not self.last_audio_file:\n",
    "            print(\"No audio recorded yet.\")\n",
    "            return\n",
    "        self.notes[self.current_id] = (self.last_audio_file, memo)\n",
    "        print(f\"Note saved with ID: {self.current_id}\")\n",
    "        self.current_id += 1\n",
    "        self.last_audio_file = None  # Reset after saving\n",
    "\n",
    "    def play_audio(self, note_id):\n",
    "        if note_id in self.notes:\n",
    "            audio_file = os.path.abspath(self.notes[note_id][0])\n",
    "            print(f\"Playing {audio_file}...\")\n",
    "            pygame.mixer.init()\n",
    "            pygame.mixer.music.load(audio_file)\n",
    "            pygame.mixer.music.play()\n",
    "\n",
    "            # Wait for audio to finish\n",
    "            while pygame.mixer.music.get_busy():\n",
    "                continue\n",
    "        else:\n",
    "            print(f\"No note found with ID: {note_id}\")\n",
    "\n",
    "    def list_notes(self):\n",
    "        if not self.notes:\n",
    "            print(\"No notes saved.\")\n",
    "            return\n",
    "        for note_id, (audio_file, memo) in self.notes.items():\n",
    "            print(f\"ID: {note_id}, Audio File: {audio_file}, Memo: {memo}\")\n",
    "\n",
    "    def delete_note(self, note_id):\n",
    "        if note_id in self.notes:\n",
    "            del self.notes[note_id]\n",
    "            print(f\"Note with ID {note_id} deleted.\")\n",
    "        else:\n",
    "            print(f\"No note found with ID: {note_id}\")\n"
   ]
  },
  {
   "cell_type": "code",
   "execution_count": 19,
   "id": "520db487",
   "metadata": {},
   "outputs": [],
   "source": [
    "system = VoiceNotesMemoSystem()\n"
   ]
  },
  {
   "cell_type": "code",
   "execution_count": 20,
   "id": "bccbdbf1",
   "metadata": {},
   "outputs": [
    {
     "name": "stdout",
     "output_type": "stream",
     "text": [
      "Enter duration in seconds: 10\n",
      "Recording...\n",
      "Recording finished.\n",
      "Audio recorded and saved as note.wav\n"
     ]
    }
   ],
   "source": [
    "duration = int(input(\"Enter duration in seconds: \"))\n",
    "audio_file = system.record_audio(duration)\n",
    "print(f\"Audio recorded and saved as {audio_file}\")\n"
   ]
  },
  {
   "cell_type": "code",
   "execution_count": 21,
   "id": "50dab078",
   "metadata": {},
   "outputs": [
    {
     "name": "stdout",
     "output_type": "stream",
     "text": [
      "Enter memo for the note: one\n",
      "Note saved with ID: 0\n"
     ]
    }
   ],
   "source": [
    "memo = input(\"Enter memo for the note: \")\n",
    "system.save_note(memo)\n"
   ]
  },
  {
   "cell_type": "code",
   "execution_count": 22,
   "id": "b03ca623",
   "metadata": {},
   "outputs": [
    {
     "name": "stdout",
     "output_type": "stream",
     "text": [
      "ID: 0, Audio File: note.wav, Memo: one\n"
     ]
    }
   ],
   "source": [
    "system.list_notes()\n"
   ]
  },
  {
   "cell_type": "code",
   "execution_count": 23,
   "id": "e0bd0306",
   "metadata": {},
   "outputs": [
    {
     "name": "stdout",
     "output_type": "stream",
     "text": [
      "Enter note ID to play: 0\n",
      "Playing C:\\Users\\Admin\\note.wav...\n"
     ]
    }
   ],
   "source": [
    "note_id = int(input(\"Enter note ID to play: \"))\n",
    "system.play_audio(note_id)\n"
   ]
  },
  {
   "cell_type": "code",
   "execution_count": 24,
   "id": "a85bf4c2",
   "metadata": {},
   "outputs": [
    {
     "name": "stdout",
     "output_type": "stream",
     "text": [
      "Enter note ID to delete: 0\n",
      "Note with ID 0 deleted.\n"
     ]
    }
   ],
   "source": [
    "note_id = int(input(\"Enter note ID to delete: \"))\n",
    "system.delete_note(note_id)\n"
   ]
  },
  {
   "cell_type": "code",
   "execution_count": null,
   "id": "cf4a795f",
   "metadata": {},
   "outputs": [],
   "source": []
  }
 ],
 "metadata": {
  "kernelspec": {
   "display_name": "Python 3 (ipykernel)",
   "language": "python",
   "name": "python3"
  },
  "language_info": {
   "codemirror_mode": {
    "name": "ipython",
    "version": 3
   },
   "file_extension": ".py",
   "mimetype": "text/x-python",
   "name": "python",
   "nbconvert_exporter": "python",
   "pygments_lexer": "ipython3",
   "version": "3.9.12"
  }
 },
 "nbformat": 4,
 "nbformat_minor": 5
}
